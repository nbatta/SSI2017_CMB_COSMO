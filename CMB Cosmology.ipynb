{
 "cells": [
  {
   "cell_type": "markdown",
   "metadata": {},
   "source": [
    "## Python Notebook for SSI2017 Summer School\n",
    "\n",
    "This notebook is meant to illustrate how the primary CMB anisotropies are dependent on cosmolocigal parameters\n",
    "\n",
    "Dependencies:\n",
    "numpy\n",
    "matplotlib\n",
    "pycamb"
   ]
  },
  {
   "cell_type": "code",
   "execution_count": 45,
   "metadata": {
    "collapsed": false
   },
   "outputs": [
    {
     "name": "stdout",
     "output_type": "stream",
     "text": [
      "Populating the interactive namespace from numpy and matplotlib\n"
     ]
    }
   ],
   "source": [
    "import numpy as np\n",
    "%pylab inline\n",
    "import matplotlib.pyplot as plt\n",
    "import camb\n",
    "from camb import model, initialpower\n",
    "\n",
    "def cmb_par_dependence(ellmax,outfile,param='om'):\n",
    "    ranges = np.array(1. + 0.1*np.arange(-2,3,1)) # +/- 40%\n",
    "    \n",
    "    if (param == 'om'):\n",
    "        omh2 = np.array(0.122 * ranges)\n",
    "        legname = r\"$\\Omega_{c} h^2$\"\n",
    "        legval = omh2\n",
    "    elif (param == 'ob'):\n",
    "        obh2 = np.array(0.022 * ranges)\n",
    "        legname = r\"$\\Omega_{b} h^2$\"\n",
    "        legval = obh2\n",
    "    elif (param == 'h'):\n",
    "        hs = np.array(67.5 * ranges)\n",
    "        legname = r\"$H_0$\"\n",
    "        legval = hs\n",
    "    elif (param == 'tau'):\n",
    "        taus = np.array(0.06 * ranges**2)\n",
    "        legname = r\"$\\tau$\"\n",
    "        legval = taus\n",
    "    elif (param == 'ns'):\n",
    "        nss = np.array(0.965 * ranges)\n",
    "        legname = r\"$n_s$\"\n",
    "        legval = nss    \n",
    "    elif (param == 'He'):\n",
    "        YHes = np.array(0.245 * ranges)\n",
    "        legname = r\"$Y_{He}$\"\n",
    "        legval = YHes\n",
    "    elif (param == 'As'):\n",
    "        Asarr = np.array(2e-9 * ranges)\n",
    "        legname = r\"$A_s$\"\n",
    "        legval = Asarr\n",
    "    elif (param == 'w'):\n",
    "        ws = np.array(-1.0 * ranges)\n",
    "        legname = r\"$w$\"\n",
    "        legval = ws \n",
    "    elif (param == 'mu'):\n",
    "        ranges = np.array(1. + 2.0*np.arange(0,5,1)) # +/- 40%\n",
    "        mus = np.array(0.06 * ranges)\n",
    "        legname = r\"$\\Sigma_{m_{\\nu}}$\"\n",
    "        legval = mus\n",
    "    else:\n",
    "        return \"not a valid parameter option\"\n",
    "    \n",
    "    print legval\n",
    "    xlab = [r\"$\\ell$\",r\"$\\ell$\",r\"$\\ell$\",r\"L\"]\n",
    "    ylab = [r\"$C^{TT}_\\ell\\,\\ell(\\ell + 1)/2\\pi$\",r\"$C^{EE}_\\ell\\,\\ell(\\ell + 1)/2\\pi$\",\n",
    "            r\"$C^{TE}_\\ell\\,\\ell(\\ell + 1)/2\\pi$\",r\"$C^{\\phi \\phi}_L\\,L(L + 1)/2\\pi$\"]\n",
    "    thk = 2.5\n",
    "    thk2 = 2.5\n",
    "    rc('axes', linewidth=thk)\n",
    "    figure(figsize=(21,15))\n",
    "        \n",
    "    for jj in xrange(len(ranges)):\n",
    "        if (param == 'om'):\n",
    "            pars.set_cosmology(H0=67.5, ombh2=0.022, omch2=omh2[jj], mnu=0.06, omk=0, tau=0.06,YHe = 0.245)\n",
    "        elif (param == 'ob'):\n",
    "            pars.set_cosmology(H0=67.5, ombh2=obh2[jj], omch2=0.122, mnu=0.06, omk=0, tau=0.06,YHe = 0.245)\n",
    "        elif (param == 'h'):\n",
    "            pars.set_cosmology(H0=hs[jj], ombh2=0.022, omch2=0.122, mnu=0.06, omk=0, tau=0.06,YHe = 0.245)\n",
    "        elif (param == 'tau'):\n",
    "            pars.set_cosmology(H0=67.5, ombh2=0.022, omch2=0.122, mnu=0.06, omk=0, tau=taus[jj],YHe = 0.245)\n",
    "        elif (param == 'mu'):\n",
    "            pars.set_cosmology(H0=67.5, ombh2=0.022, omch2=0.122, mnu=mus[jj], omk=0, tau=0.06,YHe = 0.245)\n",
    "        elif (param == 'He'):\n",
    "            pars.set_cosmology(H0=67.5, ombh2=0.022, omch2=0.122, mnu=0.06, omk=0, tau=0.06,YHe = YHes[jj])\n",
    "        else:\n",
    "            pars.set_cosmology(H0=67.5, ombh2=0.022, omch2=0.122, mnu=0.06, omk=0, tau=0.06,YHe = 0.245)\n",
    "        if (param == 'ns'):\n",
    "            pars.InitPower.set_params(As=2e-9,ns=nss[jj], r=0)\n",
    "        elif (param == 'As'):\n",
    "            pars.InitPower.set_params(As=Asarr[jj],ns=0.965, r=0)\n",
    "        else:\n",
    "            pars.InitPower.set_params(As=2e-9,ns=0.965, r=0)\n",
    "        if (param == 'w'):\n",
    "            pars.set_dark_energy(ws[jj])\n",
    "        \n",
    "        pars.set_for_lmax(ellmax, lens_potential_accuracy=1);\n",
    "        #calculate results for these parameters\n",
    "        results = camb.get_results(pars)\n",
    "        powers = results.get_cmb_power_spectra(pars)\n",
    "        totCL  = powers['total']\n",
    "        lensCL = results.get_lens_potential_cls(lmax=ellmax)\n",
    "\n",
    "        #Python CL arrays are all zero based (starting at L=0), Note L=0,1 entries will be zero by default.\n",
    "        #The different CL are always in the order TT, EE, BB, TE (with BB=0 for unlensed scalar results).\n",
    "        ls = np.arange(totCL.shape[0])\n",
    "        ls_lens = np.arange(lensCL.shape[0])\n",
    "        \n",
    "        for ii in xrange(4):\n",
    "            plt.subplot(2,2,ii+1)\n",
    "            plt.xlabel(xlab[ii],fontsize=24,weight='bold')\n",
    "            plt.ylabel(ylab[ii],fontsize=24,weight='bold')\n",
    "            plt.tick_params(size=16,width=thk,labelsize = 18)\n",
    "            if (ii < 2): \n",
    "                plt.plot(ls[2:],totCL[2:,ii],linewidth=thk2,label=legname+ '=' + np.str(legval[jj]))\n",
    "            elif(ii == 2):\n",
    "                plt.plot(ls[2:],totCL[2:,ii+1],linewidth=thk2,label=legname+ '=' + np.str(legval[jj]))\n",
    "            else:\n",
    "                plt.plot(ls_lens[2:],lensCL[2:,0],linewidth=thk2,label=legname+ '=' + np.str(legval[jj]))\n",
    "            leg = legend(loc=1,prop={\"size\":16})\n",
    "    #leg.draw_frame(False)\n",
    " \n",
    "    return"
   ]
  },
  {
   "cell_type": "code",
   "execution_count": null,
   "metadata": {
    "collapsed": false
   },
   "outputs": [],
   "source": [
    "pars = camb.CAMBparams()\n",
    "pars.set_cosmology(H0=67.5, ombh2=0.022, omch2=0.122, mnu=0.06, omk=0, tau=0.06)\n",
    "pars.InitPower.set_params(ns=0.965, r=0)\n",
    "pars.set_for_lmax(3000, lens_potential_accuracy=1);\n",
    "#calculate results for these parameters\n",
    "results = camb.get_results(pars)\n",
    "powers = results.get_cmb_power_spectra(pars)\n",
    "\n",
    "totCL=powers['total']\n",
    "ls = np.arange(totCL.shape[0])\n",
    "\n",
    "cmb_par_dependence(3000,'blah',param='He') \n",
    "#cmb_par_dependence(3000,'blah',param='ob') "
   ]
  },
  {
   "cell_type": "code",
   "execution_count": null,
   "metadata": {
    "collapsed": true
   },
   "outputs": [],
   "source": []
  }
 ],
 "metadata": {
  "kernelspec": {
   "display_name": "Python 2",
   "language": "python",
   "name": "python2"
  },
  "language_info": {
   "codemirror_mode": {
    "name": "ipython",
    "version": 2
   },
   "file_extension": ".py",
   "mimetype": "text/x-python",
   "name": "python",
   "nbconvert_exporter": "python",
   "pygments_lexer": "ipython2",
   "version": "2.7.12"
  }
 },
 "nbformat": 4,
 "nbformat_minor": 0
}
